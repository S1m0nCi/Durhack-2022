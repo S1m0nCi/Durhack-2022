{
  "nbformat": 4,
  "nbformat_minor": 0,
  "metadata": {
    "colab": {
      "provenance": [],
      "authorship_tag": "ABX9TyOzXYo9AJ7iMfvbzpqV0q8M",
      "include_colab_link": true
    },
    "kernelspec": {
      "name": "python3",
      "display_name": "Python 3"
    },
    "language_info": {
      "name": "python"
    }
  },
  "cells": [
    {
      "cell_type": "markdown",
      "metadata": {
        "id": "view-in-github",
        "colab_type": "text"
      },
      "source": [
        "<a href=\"https://colab.research.google.com/github/S1m0nCi/Durhack-2022/blob/main/Durhack_QRT_Stock_Prediction_Challenge.ipynb\" target=\"_parent\"><img src=\"https://colab.research.google.com/assets/colab-badge.svg\" alt=\"Open In Colab\"/></a>"
      ]
    },
    {
      "cell_type": "code",
      "execution_count": null,
      "metadata": {
        "id": "-IehRPReuSrU"
      },
      "outputs": [],
      "source": [
        "!pip install tensorflow_decision_forests\n",
        "!pip install wurlitzer\n",
        "\n",
        "%tensorflow_version 2.x\n",
        "\n",
        "import numpy as np\n",
        "import pandas as pd\n",
        "import matplotlib.pyplot as plt\n",
        "from IPython.display import clear_output\n",
        "from six.moves import urllib\n",
        "\n",
        "import tensorflow.compat.v2.feature_column as fc\n",
        "\n",
        "import tensorflow as tf\n",
        "import tensorflow_decision_forests as tfdf"
      ]
    },
    {
      "cell_type": "code",
      "source": [
        "from tensorflow import keras"
      ],
      "metadata": {
        "id": "lIOdIV_jg3V7"
      },
      "execution_count": null,
      "outputs": []
    },
    {
      "cell_type": "code",
      "source": [
        "input_train_df = pd.read_csv('https://durhack.qrt.services/data/x_train.csv')\n",
        "output_train_df = pd.read_csv('https://durhack.qrt.services/data/y_train.csv')\n",
        "\n",
        "input_test_df = pd.read_csv('https://durhack.qrt.services/data/x_test.csv')\n",
        "\n",
        "NUMERIC_COLUMNS = ['DATE', 'STOCK', 'INDUSTRY', 'INDUSTRY_GROUP', 'SUB_INDUSTRY', 'SECTOR']\n",
        "CATEGORICAL_COLUMNS = ['RET']\n",
        "# We do not need to convert from categorical to numeric columns because all columns are already numeric. \n",
        "\n",
        "for i in range(1,21):\n",
        "  NUMERIC_COLUMNS.append('RET_' + str(i))\n",
        "for i in range(1,21):\n",
        "  NUMERIC_COLUMNS.append('VOLUME_' + str(i))\n",
        "\n",
        "\n",
        "input_train_ds = tfdf.keras.pd_dataframe_to_tf_dataset(input_train_df) # Not quite correct as we need a boolean label.\n",
        "output_train_ds = tfdf.keras.pd_dataframe_to_tf_dataset(output_train_df)\n",
        "input_test_ds = tfdf.keras.pd_dataframe_to_tf_dataset(input_test_df)\n",
        "\n",
        "# 1. Join the two dataframes to make the solution column be in the actual column OR create a solution column of TRUE and FALSE using RET_1, RET_2, ... and so on.\n",
        "# 2. Then the model is easy to train and compile - This cell will be for data analysis and the next will be for creating the model. \n"
      ],
      "metadata": {
        "id": "X-eVRbFTyFww"
      },
      "execution_count": null,
      "outputs": []
    },
    {
      "cell_type": "code",
      "source": [
        "train_df = input_train_df \n",
        "\n",
        "# The below is not what we were supposed to do - perhaps.\n",
        "extracted_col = output_train_df['RET']\n",
        "\n",
        "\n",
        "train_df = train_df.join(extracted_col)\n",
        "\n",
        "train_df.head()\n",
        "\n",
        "train_ds = tfdf.keras.pd_dataframe_to_tf_dataset(train_df, label = \"RET\")"
      ],
      "metadata": {
        "id": "YL2w2JrefuyR"
      },
      "execution_count": null,
      "outputs": []
    },
    {
      "cell_type": "code",
      "source": [
        "baseline_df = train_df[['DATE', 'STOCK', 'INDUSTRY', 'INDUSTRY_GROUP', 'SUB_INDUSTRY', 'SECTOR']].copy()\n",
        "\n",
        "extracted_col = input_train_df['RET_1']\n",
        "extracted_col_1 = np.sign(extracted_col)\n",
        "extracted_col_1[extracted_col_1 < 0] = 0 \n",
        "\n",
        "extracted_col_2 = input_train_df['VOLUME_1']\n",
        "training_part_1 = baseline_df.join(extracted_col_1)\n",
        "training_part = training_part_1.join(extracted_col_2)  \n",
        "training_part = training_part.apply (pd.to_numeric, errors='coerce')\n",
        "training_part = training_part.dropna()\n",
        "\n",
        "train_part_ds = tfdf.keras.pd_dataframe_to_tf_dataset(training_part, label = \"RET_1\")\n",
        "\n"
      ],
      "metadata": {
        "id": "gJF_tDhyaG2n"
      },
      "execution_count": null,
      "outputs": []
    },
    {
      "cell_type": "code",
      "source": [
        "# We need to work with the dataframe\n",
        "# We create a baseline list\n",
        "# Chnge positive RET to TRUE or even to 1\n",
        "# We retrain the model for every ret-volume pair\n",
        "# Use join\n",
        "baseline_df = train_df[['DATE', 'STOCK', 'INDUSTRY', 'INDUSTRY_GROUP', 'SUB_INDUSTRY', 'SECTOR']].copy()\n",
        "ds_list = []\n",
        "# Creating a collected list is more efficient\n",
        "collected_df = pd.DataFrame()\n",
        "\n",
        "for num in range(1,6):\n",
        "  extracted_col = input_train_df['RET_'+str(num)]\n",
        "  extracted_col_1 = np.sign(extracted_col)\n",
        "  extracted_col_1[extracted_col_1 < 0] = 0 \n",
        "  extracted_col_df = pd.DataFrame(extracted_col_1)\n",
        "  extracted_col_df.rename(columns = {'RET_'+str(num): 'RET'}, inplace = True)\n",
        "  training_part_1 = baseline_df.join(extracted_col_df)\n",
        "\n",
        "  extracted_col_2 = input_train_df['VOLUME_'+str(num)]\n",
        "  extracted_col_2_df = pd.DataFrame(extracted_col_2)\n",
        "  extracted_col_2_df.rename(columns = {'VOLUME_'+str(num): 'VOLUME'}, inplace = True)\n",
        "\n",
        "  training_part = training_part_1.join(extracted_col_2_df)  \n",
        "  training_part = training_part.apply(pd.to_numeric, errors='coerce')\n",
        "  training_part = training_part.dropna()\n",
        "\n",
        "  collected_df = collected_df.append(training_part, ignore_index = True)\n",
        "\n",
        "train_ds = tfdf.keras.pd_dataframe_to_tf_dataset(collected_df, label = \"RET\")\n",
        "\n"
      ],
      "metadata": {
        "id": "7dNANlZvUkXM"
      },
      "execution_count": null,
      "outputs": []
    },
    {
      "cell_type": "code",
      "source": [
        "model = tfdf.keras.RandomForestModel(\n",
        "    num_trees = 500,\n",
        "    max_depth = 8    \n",
        ")  # Configure this model's details such as the number of trees.\n",
        "\n",
        "\n",
        "model.fit(train_ds)\n",
        "\n",
        "model.compile(metrics=[\"accuracy\"])"
      ],
      "metadata": {
        "id": "58NXs_HRargG"
      },
      "execution_count": null,
      "outputs": []
    },
    {
      "cell_type": "markdown",
      "source": [
        "https://www.tensorflow.org/decision_forests/tutorials/predict_colab "
      ],
      "metadata": {
        "id": "wWQRoLuw6byO"
      }
    },
    {
      "cell_type": "code",
      "source": [
        "model.predict(input_test_ds)"
      ],
      "metadata": {
        "id": "gdi7d0eSx6hj"
      },
      "execution_count": null,
      "outputs": []
    },
    {
      "cell_type": "code",
      "source": [
        "# Format the test data - the code may crash\n",
        "collected_df_test = pd.DataFrame()\n",
        "\n",
        "for num in range(1,21):\n",
        "  extracted_col = input_test_df['RET_'+str(num)]\n",
        "  extracted_col_1 = np.sign(extracted_col)\n",
        "  extracted_col_1[extracted_col_1 < 0] = 0 \n",
        "  extracted_col_df = pd.DataFrame(extracted_col_1)\n",
        "  extracted_col_df.rename(columns = {'RET_'+str(num): 'RET'}, inplace = True)\n",
        "  testing_part_1 = baseline_df.join(extracted_col_df)\n",
        "\n",
        "  extracted_col_2 = input_test_df['VOLUME_'+str(num)]\n",
        "  extracted_col_2_df = pd.DataFrame(extracted_col_2)\n",
        "  extracted_col_2_df.rename(columns = {'VOLUME_'+str(num): 'VOLUME'}, inplace = True)\n",
        "\n",
        "  testing_part = testing_part_1.join(extracted_col_2_df)  \n",
        "  testing_part = testing_part.apply(pd.to_numeric, errors='coerce')\n",
        "  testing_part = testing_part.dropna()\n",
        "\n",
        "  collected_df_test = collected_df.append(testing_part, ignore_index = True)\n",
        "\n",
        "test_ds = tfdf.keras.pd_dataframe_to_tf_dataset(collected_df_test, label = \"RET\")"
      ],
      "metadata": {
        "id": "tJ6YuxjLraC6"
      },
      "execution_count": null,
      "outputs": []
    },
    {
      "cell_type": "code",
      "source": [
        "import csv\n",
        "\n",
        "#Change TRUE to 1 and FALSE to 0.\n",
        "model.evaluate(test_ds)\n",
        "\n",
        "fil = open('test_rand.csv', 'w')\n",
        "\n",
        "\n",
        "\"\"\"\n",
        "for prediction_number in model.predict(input_test_ds):\n",
        "  if prediction_number \"\"\"\n",
        "\n"
      ],
      "metadata": {
        "id": "EXLkGh2p9pfv"
      },
      "execution_count": null,
      "outputs": []
    }
  ]
}